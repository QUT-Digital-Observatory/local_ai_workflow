{
 "cells": [
  {
   "cell_type": "code",
   "execution_count": 2,
   "metadata": {},
   "outputs": [
    {
     "name": "stdout",
     "output_type": "stream",
     "text": [
      "No OpenAI API key provided - OpenAI features will be disabled\n",
      "Using CPU for UMAP and HDBSCAN.\n"
     ]
    }
   ],
   "source": [
    "from temp_sql_workflow import DataImporter, AIProcessor\n",
    "import numpy as np\n",
    "import pandas as pd"
   ]
  },
  {
   "cell_type": "code",
   "execution_count": 3,
   "metadata": {},
   "outputs": [],
   "source": [
    "data_importer = DataImporter(table_name= \"reddit_posts\")\n",
    "\n",
    "ai_processor = AIProcessor(table_name= \"reddit_posts\", config_path= \"ai_config.yaml\")"
   ]
  },
  {
   "cell_type": "code",
   "execution_count": 4,
   "metadata": {},
   "outputs": [
    {
     "name": "stdout",
     "output_type": "stream",
     "text": [
      "Database file temp.db has been removed.\n"
     ]
    }
   ],
   "source": [
    "data_importer.clean_up()"
   ]
  },
  {
   "cell_type": "code",
   "execution_count": 5,
   "metadata": {},
   "outputs": [],
   "source": [
    "data_importer.import_data('snake_comments.csv', \"csv\", text_column='body')"
   ]
  },
  {
   "cell_type": "code",
   "execution_count": 6,
   "metadata": {},
   "outputs": [
    {
     "data": {
      "text/html": [
       "<div>\n",
       "<style scoped>\n",
       "    .dataframe tbody tr th:only-of-type {\n",
       "        vertical-align: middle;\n",
       "    }\n",
       "\n",
       "    .dataframe tbody tr th {\n",
       "        vertical-align: top;\n",
       "    }\n",
       "\n",
       "    .dataframe thead th {\n",
       "        text-align: right;\n",
       "    }\n",
       "</style>\n",
       "<table border=\"1\" class=\"dataframe\">\n",
       "  <thead>\n",
       "    <tr style=\"text-align: right;\">\n",
       "      <th></th>\n",
       "      <th>author</th>\n",
       "      <th>body</th>\n",
       "      <th>id</th>\n",
       "      <th>created_utc</th>\n",
       "      <th>tme_created</th>\n",
       "      <th>link_id</th>\n",
       "      <th>parent_id</th>\n",
       "      <th>replies</th>\n",
       "      <th>reply_count</th>\n",
       "      <th>embedding</th>\n",
       "    </tr>\n",
       "  </thead>\n",
       "  <tbody>\n",
       "    <tr>\n",
       "      <th>0</th>\n",
       "      <td>ReallyGneiss</td>\n",
       "      <td>This one is friendly, you can pick him up and ...</td>\n",
       "      <td>ljzhm6o</td>\n",
       "      <td>1.724662e+09</td>\n",
       "      <td>2024-08-26T18:54:55</td>\n",
       "      <td>t3_1f1jeir</td>\n",
       "      <td>t3_1f1jeir</td>\n",
       "      <td>['ljzi52s', 'lk04vrf', 'ljzumml', 'lk0ec23', '...</td>\n",
       "      <td>18</td>\n",
       "      <td>[-0.03996112942695618, 0.009943520650267601, -...</td>\n",
       "    </tr>\n",
       "    <tr>\n",
       "      <th>1</th>\n",
       "      <td>PMFSCV</td>\n",
       "      <td>I'd have a close look at this one but a brown ...</td>\n",
       "      <td>ljzjc2f</td>\n",
       "      <td>1.724664e+09</td>\n",
       "      <td>2024-08-26T19:14:31</td>\n",
       "      <td>t3_1f1jeir</td>\n",
       "      <td>t3_1f1jeir</td>\n",
       "      <td>['lk03wf6']</td>\n",
       "      <td>1</td>\n",
       "      <td>[-0.008227312937378883, 0.12003874033689499, 0...</td>\n",
       "    </tr>\n",
       "    <tr>\n",
       "      <th>2</th>\n",
       "      <td>Roulette-Adventures</td>\n",
       "      <td>Above average if you ask me.</td>\n",
       "      <td>ljzjiel</td>\n",
       "      <td>1.724664e+09</td>\n",
       "      <td>2024-08-26T19:16:30</td>\n",
       "      <td>t3_1f1jeir</td>\n",
       "      <td>t3_1f1jeir</td>\n",
       "      <td>['ljzmkis', 'lk2lz4z', 'lk0eiuf']</td>\n",
       "      <td>3</td>\n",
       "      <td>[0.1167907565832138, -0.03648623824119568, -0....</td>\n",
       "    </tr>\n",
       "    <tr>\n",
       "      <th>3</th>\n",
       "      <td>Nope753</td>\n",
       "      <td>They really don't need to be that long.. That'...</td>\n",
       "      <td>ljzhwuj</td>\n",
       "      <td>1.724663e+09</td>\n",
       "      <td>2024-08-26T18:58:21</td>\n",
       "      <td>t3_1f1jeir</td>\n",
       "      <td>t3_1f1jeir</td>\n",
       "      <td>['ljzjyos', 'ljzoahc', 'ljznsk4', 'lk0qb15', '...</td>\n",
       "      <td>6</td>\n",
       "      <td>[0.0449698381125927, 0.01662573032081127, 0.06...</td>\n",
       "    </tr>\n",
       "    <tr>\n",
       "      <th>4</th>\n",
       "      <td>Disastrous_Animal_34</td>\n",
       "      <td>Oh no is it injured??! It’s such a beauty.</td>\n",
       "      <td>ljzimfe</td>\n",
       "      <td>1.724663e+09</td>\n",
       "      <td>2024-08-26T19:06:22</td>\n",
       "      <td>t3_1f1jeir</td>\n",
       "      <td>t3_1f1jeir</td>\n",
       "      <td>['ljzkkyj', 'ljzr19g', 'ljzkwjo', 'ljzl0j9', '...</td>\n",
       "      <td>9</td>\n",
       "      <td>[0.07593657821416855, 0.05670040100812912, 0.0...</td>\n",
       "    </tr>\n",
       "  </tbody>\n",
       "</table>\n",
       "</div>"
      ],
      "text/plain": [
       "                 author                                               body  \\\n",
       "0          ReallyGneiss  This one is friendly, you can pick him up and ...   \n",
       "1                PMFSCV  I'd have a close look at this one but a brown ...   \n",
       "2   Roulette-Adventures                       Above average if you ask me.   \n",
       "3               Nope753  They really don't need to be that long.. That'...   \n",
       "4  Disastrous_Animal_34         Oh no is it injured??! It’s such a beauty.   \n",
       "\n",
       "        id   created_utc          tme_created     link_id   parent_id  \\\n",
       "0  ljzhm6o  1.724662e+09  2024-08-26T18:54:55  t3_1f1jeir  t3_1f1jeir   \n",
       "1  ljzjc2f  1.724664e+09  2024-08-26T19:14:31  t3_1f1jeir  t3_1f1jeir   \n",
       "2  ljzjiel  1.724664e+09  2024-08-26T19:16:30  t3_1f1jeir  t3_1f1jeir   \n",
       "3  ljzhwuj  1.724663e+09  2024-08-26T18:58:21  t3_1f1jeir  t3_1f1jeir   \n",
       "4  ljzimfe  1.724663e+09  2024-08-26T19:06:22  t3_1f1jeir  t3_1f1jeir   \n",
       "\n",
       "                                             replies  reply_count  \\\n",
       "0  ['ljzi52s', 'lk04vrf', 'ljzumml', 'lk0ec23', '...           18   \n",
       "1                                        ['lk03wf6']            1   \n",
       "2                  ['ljzmkis', 'lk2lz4z', 'lk0eiuf']            3   \n",
       "3  ['ljzjyos', 'ljzoahc', 'ljznsk4', 'lk0qb15', '...            6   \n",
       "4  ['ljzkkyj', 'ljzr19g', 'ljzkwjo', 'ljzl0j9', '...            9   \n",
       "\n",
       "                                           embedding  \n",
       "0  [-0.03996112942695618, 0.009943520650267601, -...  \n",
       "1  [-0.008227312937378883, 0.12003874033689499, 0...  \n",
       "2  [0.1167907565832138, -0.03648623824119568, -0....  \n",
       "3  [0.0449698381125927, 0.01662573032081127, 0.06...  \n",
       "4  [0.07593657821416855, 0.05670040100812912, 0.0...  "
      ]
     },
     "execution_count": 6,
     "metadata": {},
     "output_type": "execute_result"
    }
   ],
   "source": [
    "data_importer.check_table('reddit_posts')"
   ]
  },
  {
   "cell_type": "code",
   "execution_count": 7,
   "metadata": {},
   "outputs": [
    {
     "data": {
      "text/plain": [
       "[(0, 'author', 'TEXT', 0, None, 0),\n",
       " (1, 'body', 'TEXT', 0, None, 0),\n",
       " (2, 'id', 'TEXT', 0, None, 0),\n",
       " (3, 'created_utc', 'REAL', 0, None, 0),\n",
       " (4, 'tme_created', 'TEXT', 0, None, 0),\n",
       " (5, 'link_id', 'TEXT', 0, None, 0),\n",
       " (6, 'parent_id', 'TEXT', 0, None, 0),\n",
       " (7, 'replies', 'TEXT', 0, None, 0),\n",
       " (8, 'reply_count', 'INTEGER', 0, None, 0),\n",
       " (9, 'embedding', 'TEXT', 0, None, 0)]"
      ]
     },
     "execution_count": 7,
     "metadata": {},
     "output_type": "execute_result"
    }
   ],
   "source": [
    "data_importer.get_table_info('reddit_posts')"
   ]
  },
  {
   "cell_type": "code",
   "execution_count": 8,
   "metadata": {},
   "outputs": [],
   "source": [
    "instruction = \"extract the sentimment towards snakes from the comment\""
   ]
  },
  {
   "cell_type": "code",
   "execution_count": 9,
   "metadata": {},
   "outputs": [
    {
     "name": "stderr",
     "output_type": "stream",
     "text": [
      "100%|██████████| 10/10 [00:57<00:00,  5.73s/it]\n"
     ]
    }
   ],
   "source": [
    "ai_processor.process_and_update_ollama(instruction, 'reddit_posts', \"id\", 'body', 'response', 10, 10, 'phi3.5')"
   ]
  },
  {
   "cell_type": "code",
   "execution_count": 11,
   "metadata": {},
   "outputs": [
    {
     "data": {
      "text/plain": [
       "[(0, 'author', 'TEXT', 0, None, 0),\n",
       " (1, 'body', 'TEXT', 0, None, 0),\n",
       " (2, 'id', 'TEXT', 0, None, 0),\n",
       " (3, 'created_utc', 'REAL', 0, None, 0),\n",
       " (4, 'tme_created', 'TEXT', 0, None, 0),\n",
       " (5, 'link_id', 'TEXT', 0, None, 0),\n",
       " (6, 'parent_id', 'TEXT', 0, None, 0),\n",
       " (7, 'replies', 'TEXT', 0, None, 0),\n",
       " (8, 'reply_count', 'INTEGER', 0, None, 0),\n",
       " (9, 'embedding', 'TEXT', 0, None, 0),\n",
       " (10, 'response', 'TEXT', 0, None, 0)]"
      ]
     },
     "execution_count": 11,
     "metadata": {},
     "output_type": "execute_result"
    }
   ],
   "source": [
    "data_importer.get_table_info('reddit_posts')\n"
   ]
  },
  {
   "cell_type": "code",
   "execution_count": 13,
   "metadata": {},
   "outputs": [],
   "source": [
    "data_check = data_importer.check_table('reddit_posts')"
   ]
  }
 ],
 "metadata": {
  "kernelspec": {
   "display_name": ".venv",
   "language": "python",
   "name": "python3"
  },
  "language_info": {
   "codemirror_mode": {
    "name": "ipython",
    "version": 3
   },
   "file_extension": ".py",
   "mimetype": "text/x-python",
   "name": "python",
   "nbconvert_exporter": "python",
   "pygments_lexer": "ipython3",
   "version": "3.11.9"
  }
 },
 "nbformat": 4,
 "nbformat_minor": 2
}
